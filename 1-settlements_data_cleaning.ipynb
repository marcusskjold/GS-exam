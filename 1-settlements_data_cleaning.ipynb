{
 "cells": [
  {
   "cell_type": "markdown",
   "id": "bcae3d2a-ff01-43d9-b294-6611c326d4d7",
   "metadata": {},
   "source": [
    "# Settlements data cleaning"
   ]
  },
  {
   "cell_type": "markdown",
   "id": "aeeafdab-dbb8-4374-abfa-6fba50de808d",
   "metadata": {
    "tags": []
   },
   "source": [
    "## Imports & variables"
   ]
  },
  {
   "cell_type": "code",
   "execution_count": 1,
   "id": "e16fb29b-6d32-4eab-a215-14203ddc14cb",
   "metadata": {},
   "outputs": [],
   "source": [
    "import os\n",
    "os.environ['PROJ_LIB'] = '/opt/conda/share/proj'\n",
    "\n",
    "import geopandas as gpd\n",
    "import pandas as pd\n",
    "import numpy as np\n",
    "import osmnx\n",
    "import contextily as cx\n",
    "import seaborn as sns\n",
    "import matplotlib.pyplot as plt\n",
    "import networkx as nx\n",
    "import os\n",
    "from math import sqrt\n",
    "from pysal.viz import mapclassify"
   ]
  },
  {
   "cell_type": "code",
   "execution_count": 2,
   "id": "15ec7897-551e-4214-9c73-f57dc1542865",
   "metadata": {},
   "outputs": [],
   "source": [
    "dir_data = \"data\"\n",
    "dir_buildings = \"buildings\"\n",
    "dir_stednavne = \"DKstednavneBearbejdedeNohist_GPKG_HF_20250706080013\"\n",
    "\n",
    "fp_trains = \"inspire-jernbane.gpkg\"\n",
    "fp_indbyggertal= \"indbyggertal.csv\"\n",
    "fp_stednavne = \"DS_V1_Stednavn_TotalDownload_gpkg_Bitemporal_331.gpkg\"\n",
    "fp_bebyggelse = \"bebyggelse.gpkg\""
   ]
  },
  {
   "cell_type": "markdown",
   "id": "a04354b8-b4ad-4d5e-8950-3a6a56f88050",
   "metadata": {},
   "source": [
    "We use some simple utility functions throughout this notebook"
   ]
  },
  {
   "cell_type": "code",
   "execution_count": 3,
   "id": "a3b2d1a1-335e-4601-9ec8-898c61903fe1",
   "metadata": {},
   "outputs": [],
   "source": [
    "# prlen = lambda df : print(len(df.index))\n",
    "li = lambda df : len(df.index)\n",
    "join = lambda a, *b : os.path.join(a, *b)\n",
    "grf = lambda *name : gpd.read_file(join(dir_data, *name))\n",
    "csvrf = lambda *name : pd.read_csv(join(dir_data, *name), sep=';')\n",
    "def mergecol(df, a, b, newname) :\n",
    "    df = df.drop(b, axis=1)\n",
    "    return df.rename(columns={a : newname})"
   ]
  },
  {
   "cell_type": "markdown",
   "id": "e72b5c17-0065-49a5-a0f4-7dd4a841ab0b",
   "metadata": {
    "tags": []
   },
   "source": [
    "## Combining data"
   ]
  },
  {
   "cell_type": "markdown",
   "id": "2bdb6772-7826-47fd-a784-270a22b64210",
   "metadata": {
    "jp-MarkdownHeadingCollapsed": true,
    "tags": []
   },
   "source": [
    "### Loading and filtering sources"
   ]
  },
  {
   "cell_type": "markdown",
   "id": "3afcad88-7077-48fe-bd6e-eacc8a7fde87",
   "metadata": {},
   "source": [
    "First, we load the data contains the shapes of all registered buildings in Denmark from [datafordeler.dk](https://datafordeler.dk/dataoversigt/danske-stednavne/danske-stednavne-bearbejdede-praedefineret-gpkg_hf/), and the the data on residents from [dataforsyningen.dk](https://dataforsyningen.dk/data/4875#origin)."
   ]
  },
  {
   "cell_type": "markdown",
   "id": "1ba5aafd-8acf-40c7-8dce-0f36efa90b34",
   "metadata": {
    "jp-MarkdownHeadingCollapsed": true,
    "tags": []
   },
   "source": [
    "### Buildings file"
   ]
  },
  {
   "cell_type": "code",
   "execution_count": 4,
   "id": "0b091de3-63ae-4c78-9a5c-489d7c987b5c",
   "metadata": {},
   "outputs": [
    {
     "data": {
      "text/plain": [
       "17858"
      ]
     },
     "execution_count": 4,
     "metadata": {},
     "output_type": "execute_result"
    }
   ],
   "source": [
    "bebyggelse = grf(dir_buildings, dir_stednavne, fp_bebyggelse)\n",
    "li(bebyggelse)"
   ]
  },
  {
   "cell_type": "markdown",
   "id": "ab13982e-1654-4b54-b0c1-1ae6890b7c49",
   "metadata": {},
   "source": [
    "This data has a lot of columns, and we need to select only a few.\n",
    "Let's investigate:"
   ]
  },
  {
   "cell_type": "code",
   "execution_count": 5,
   "id": "382e1c2c-69de-472d-adf2-9ff6ca49b80f",
   "metadata": {},
   "outputs": [
    {
     "data": {
      "text/html": [
       "<div>\n",
       "<style scoped>\n",
       "    .dataframe tbody tr th:only-of-type {\n",
       "        vertical-align: middle;\n",
       "    }\n",
       "\n",
       "    .dataframe tbody tr th {\n",
       "        vertical-align: top;\n",
       "    }\n",
       "\n",
       "    .dataframe thead th {\n",
       "        text-align: right;\n",
       "    }\n",
       "</style>\n",
       "<table border=\"1\" class=\"dataframe\">\n",
       "  <thead>\n",
       "    <tr style=\"text-align: right;\">\n",
       "      <th></th>\n",
       "      <th>missing_values</th>\n",
       "      <th>unique_values</th>\n",
       "    </tr>\n",
       "  </thead>\n",
       "  <tbody>\n",
       "    <tr>\n",
       "      <th>objectid</th>\n",
       "      <td>0</td>\n",
       "      <td>17858</td>\n",
       "    </tr>\n",
       "    <tr>\n",
       "      <th>feltliste</th>\n",
       "      <td>17448</td>\n",
       "      <td>2</td>\n",
       "    </tr>\n",
       "    <tr>\n",
       "      <th>gmlid</th>\n",
       "      <td>0</td>\n",
       "      <td>17858</td>\n",
       "    </tr>\n",
       "    <tr>\n",
       "      <th>dataansvarligmyndighed</th>\n",
       "      <td>0</td>\n",
       "      <td>2</td>\n",
       "    </tr>\n",
       "    <tr>\n",
       "      <th>forretningshaendelse</th>\n",
       "      <td>0</td>\n",
       "      <td>2</td>\n",
       "    </tr>\n",
       "    <tr>\n",
       "      <th>forretningsomraade</th>\n",
       "      <td>0</td>\n",
       "      <td>1</td>\n",
       "    </tr>\n",
       "    <tr>\n",
       "      <th>forretningsproces</th>\n",
       "      <td>0</td>\n",
       "      <td>3</td>\n",
       "    </tr>\n",
       "    <tr>\n",
       "      <th>id_namespace</th>\n",
       "      <td>0</td>\n",
       "      <td>1</td>\n",
       "    </tr>\n",
       "    <tr>\n",
       "      <th>id_lokalid</th>\n",
       "      <td>0</td>\n",
       "      <td>17858</td>\n",
       "    </tr>\n",
       "    <tr>\n",
       "      <th>registreringfra</th>\n",
       "      <td>0</td>\n",
       "      <td>2181</td>\n",
       "    </tr>\n",
       "    <tr>\n",
       "      <th>registreringtil</th>\n",
       "      <td>17858</td>\n",
       "      <td>1</td>\n",
       "    </tr>\n",
       "    <tr>\n",
       "      <th>registreringsaktoer</th>\n",
       "      <td>0</td>\n",
       "      <td>2</td>\n",
       "    </tr>\n",
       "    <tr>\n",
       "      <th>status</th>\n",
       "      <td>0</td>\n",
       "      <td>1</td>\n",
       "    </tr>\n",
       "    <tr>\n",
       "      <th>virkningfra</th>\n",
       "      <td>0</td>\n",
       "      <td>2181</td>\n",
       "    </tr>\n",
       "    <tr>\n",
       "      <th>virkningtil</th>\n",
       "      <td>17858</td>\n",
       "      <td>1</td>\n",
       "    </tr>\n",
       "    <tr>\n",
       "      <th>virkningsaktoer</th>\n",
       "      <td>0</td>\n",
       "      <td>2</td>\n",
       "    </tr>\n",
       "    <tr>\n",
       "      <th>areal</th>\n",
       "      <td>0</td>\n",
       "      <td>17562</td>\n",
       "    </tr>\n",
       "    <tr>\n",
       "      <th>bebyggelseskode</th>\n",
       "      <td>9396</td>\n",
       "      <td>8463</td>\n",
       "    </tr>\n",
       "    <tr>\n",
       "      <th>bebyggelsestype</th>\n",
       "      <td>0</td>\n",
       "      <td>7</td>\n",
       "    </tr>\n",
       "    <tr>\n",
       "      <th>danmarksstatistik</th>\n",
       "      <td>9884</td>\n",
       "      <td>2</td>\n",
       "    </tr>\n",
       "    <tr>\n",
       "      <th>indbyggertal</th>\n",
       "      <td>17858</td>\n",
       "      <td>1</td>\n",
       "    </tr>\n",
       "    <tr>\n",
       "      <th>navn_1_aktualitet</th>\n",
       "      <td>5</td>\n",
       "      <td>2</td>\n",
       "    </tr>\n",
       "    <tr>\n",
       "      <th>navn_1_brugsprioritet</th>\n",
       "      <td>5</td>\n",
       "      <td>3</td>\n",
       "    </tr>\n",
       "    <tr>\n",
       "      <th>navn_1_navnefoelgenummer</th>\n",
       "      <td>5</td>\n",
       "      <td>2</td>\n",
       "    </tr>\n",
       "    <tr>\n",
       "      <th>navn_1_navnestatus</th>\n",
       "      <td>5</td>\n",
       "      <td>4</td>\n",
       "    </tr>\n",
       "    <tr>\n",
       "      <th>navn_1_oprettelsesdato</th>\n",
       "      <td>5</td>\n",
       "      <td>994</td>\n",
       "    </tr>\n",
       "    <tr>\n",
       "      <th>navn_1_skrivemaade</th>\n",
       "      <td>5</td>\n",
       "      <td>14201</td>\n",
       "    </tr>\n",
       "    <tr>\n",
       "      <th>navn_1_sprog</th>\n",
       "      <td>5</td>\n",
       "      <td>3</td>\n",
       "    </tr>\n",
       "    <tr>\n",
       "      <th>navn_2_aktualitet</th>\n",
       "      <td>17786</td>\n",
       "      <td>2</td>\n",
       "    </tr>\n",
       "    <tr>\n",
       "      <th>navn_2_brugsprioritet</th>\n",
       "      <td>17786</td>\n",
       "      <td>3</td>\n",
       "    </tr>\n",
       "    <tr>\n",
       "      <th>navn_2_navnefoelgenummer</th>\n",
       "      <td>17786</td>\n",
       "      <td>2</td>\n",
       "    </tr>\n",
       "    <tr>\n",
       "      <th>navn_2_navnestatus</th>\n",
       "      <td>17786</td>\n",
       "      <td>4</td>\n",
       "    </tr>\n",
       "    <tr>\n",
       "      <th>navn_2_oprettelsesdato</th>\n",
       "      <td>17786</td>\n",
       "      <td>73</td>\n",
       "    </tr>\n",
       "    <tr>\n",
       "      <th>navn_2_skrivemaade</th>\n",
       "      <td>17786</td>\n",
       "      <td>73</td>\n",
       "    </tr>\n",
       "    <tr>\n",
       "      <th>navn_2_sprog</th>\n",
       "      <td>17786</td>\n",
       "      <td>3</td>\n",
       "    </tr>\n",
       "    <tr>\n",
       "      <th>navn_3_aktualitet</th>\n",
       "      <td>17858</td>\n",
       "      <td>1</td>\n",
       "    </tr>\n",
       "    <tr>\n",
       "      <th>navn_3_brugsprioritet</th>\n",
       "      <td>17858</td>\n",
       "      <td>1</td>\n",
       "    </tr>\n",
       "    <tr>\n",
       "      <th>navn_3_navnefoelgenummer</th>\n",
       "      <td>17858</td>\n",
       "      <td>1</td>\n",
       "    </tr>\n",
       "    <tr>\n",
       "      <th>navn_3_navnestatus</th>\n",
       "      <td>17858</td>\n",
       "      <td>1</td>\n",
       "    </tr>\n",
       "    <tr>\n",
       "      <th>navn_3_oprettelsesdato</th>\n",
       "      <td>17858</td>\n",
       "      <td>1</td>\n",
       "    </tr>\n",
       "    <tr>\n",
       "      <th>navn_3_skrivemaade</th>\n",
       "      <td>17858</td>\n",
       "      <td>1</td>\n",
       "    </tr>\n",
       "    <tr>\n",
       "      <th>navn_3_sprog</th>\n",
       "      <td>17858</td>\n",
       "      <td>1</td>\n",
       "    </tr>\n",
       "    <tr>\n",
       "      <th>navn_4_aktualitet</th>\n",
       "      <td>17858</td>\n",
       "      <td>1</td>\n",
       "    </tr>\n",
       "    <tr>\n",
       "      <th>navn_4_brugsprioritet</th>\n",
       "      <td>17858</td>\n",
       "      <td>1</td>\n",
       "    </tr>\n",
       "    <tr>\n",
       "      <th>navn_4_navnefoelgenummer</th>\n",
       "      <td>17858</td>\n",
       "      <td>1</td>\n",
       "    </tr>\n",
       "    <tr>\n",
       "      <th>navn_4_navnestatus</th>\n",
       "      <td>17858</td>\n",
       "      <td>1</td>\n",
       "    </tr>\n",
       "    <tr>\n",
       "      <th>navn_4_oprettelsesdato</th>\n",
       "      <td>17858</td>\n",
       "      <td>1</td>\n",
       "    </tr>\n",
       "    <tr>\n",
       "      <th>navn_4_skrivemaade</th>\n",
       "      <td>17858</td>\n",
       "      <td>1</td>\n",
       "    </tr>\n",
       "    <tr>\n",
       "      <th>navn_4_sprog</th>\n",
       "      <td>17858</td>\n",
       "      <td>1</td>\n",
       "    </tr>\n",
       "    <tr>\n",
       "      <th>navn_5_aktualitet</th>\n",
       "      <td>17858</td>\n",
       "      <td>1</td>\n",
       "    </tr>\n",
       "    <tr>\n",
       "      <th>navn_5_brugsprioritet</th>\n",
       "      <td>17858</td>\n",
       "      <td>1</td>\n",
       "    </tr>\n",
       "    <tr>\n",
       "      <th>navn_5_navnefoelgenummer</th>\n",
       "      <td>17858</td>\n",
       "      <td>1</td>\n",
       "    </tr>\n",
       "    <tr>\n",
       "      <th>navn_5_navnestatus</th>\n",
       "      <td>17858</td>\n",
       "      <td>1</td>\n",
       "    </tr>\n",
       "    <tr>\n",
       "      <th>navn_5_oprettelsesdato</th>\n",
       "      <td>17858</td>\n",
       "      <td>1</td>\n",
       "    </tr>\n",
       "    <tr>\n",
       "      <th>navn_5_skrivemaade</th>\n",
       "      <td>17858</td>\n",
       "      <td>1</td>\n",
       "    </tr>\n",
       "    <tr>\n",
       "      <th>navn_5_sprog</th>\n",
       "      <td>17858</td>\n",
       "      <td>1</td>\n",
       "    </tr>\n",
       "    <tr>\n",
       "      <th>geometry</th>\n",
       "      <td>0</td>\n",
       "      <td>17858</td>\n",
       "    </tr>\n",
       "  </tbody>\n",
       "</table>\n",
       "</div>"
      ],
      "text/plain": [
       "                          missing_values  unique_values\n",
       "objectid                               0          17858\n",
       "feltliste                          17448              2\n",
       "gmlid                                  0          17858\n",
       "dataansvarligmyndighed                 0              2\n",
       "forretningshaendelse                   0              2\n",
       "forretningsomraade                     0              1\n",
       "forretningsproces                      0              3\n",
       "id_namespace                           0              1\n",
       "id_lokalid                             0          17858\n",
       "registreringfra                        0           2181\n",
       "registreringtil                    17858              1\n",
       "registreringsaktoer                    0              2\n",
       "status                                 0              1\n",
       "virkningfra                            0           2181\n",
       "virkningtil                        17858              1\n",
       "virkningsaktoer                        0              2\n",
       "areal                                  0          17562\n",
       "bebyggelseskode                     9396           8463\n",
       "bebyggelsestype                        0              7\n",
       "danmarksstatistik                   9884              2\n",
       "indbyggertal                       17858              1\n",
       "navn_1_aktualitet                      5              2\n",
       "navn_1_brugsprioritet                  5              3\n",
       "navn_1_navnefoelgenummer               5              2\n",
       "navn_1_navnestatus                     5              4\n",
       "navn_1_oprettelsesdato                 5            994\n",
       "navn_1_skrivemaade                     5          14201\n",
       "navn_1_sprog                           5              3\n",
       "navn_2_aktualitet                  17786              2\n",
       "navn_2_brugsprioritet              17786              3\n",
       "navn_2_navnefoelgenummer           17786              2\n",
       "navn_2_navnestatus                 17786              4\n",
       "navn_2_oprettelsesdato             17786             73\n",
       "navn_2_skrivemaade                 17786             73\n",
       "navn_2_sprog                       17786              3\n",
       "navn_3_aktualitet                  17858              1\n",
       "navn_3_brugsprioritet              17858              1\n",
       "navn_3_navnefoelgenummer           17858              1\n",
       "navn_3_navnestatus                 17858              1\n",
       "navn_3_oprettelsesdato             17858              1\n",
       "navn_3_skrivemaade                 17858              1\n",
       "navn_3_sprog                       17858              1\n",
       "navn_4_aktualitet                  17858              1\n",
       "navn_4_brugsprioritet              17858              1\n",
       "navn_4_navnefoelgenummer           17858              1\n",
       "navn_4_navnestatus                 17858              1\n",
       "navn_4_oprettelsesdato             17858              1\n",
       "navn_4_skrivemaade                 17858              1\n",
       "navn_4_sprog                       17858              1\n",
       "navn_5_aktualitet                  17858              1\n",
       "navn_5_brugsprioritet              17858              1\n",
       "navn_5_navnefoelgenummer           17858              1\n",
       "navn_5_navnestatus                 17858              1\n",
       "navn_5_oprettelsesdato             17858              1\n",
       "navn_5_skrivemaade                 17858              1\n",
       "navn_5_sprog                       17858              1\n",
       "geometry                               0          17858"
      ]
     },
     "execution_count": 5,
     "metadata": {},
     "output_type": "execute_result"
    }
   ],
   "source": [
    "bebyggelse.dropna(how='all', axis='columns')\n",
    "missing = bebyggelse.isna().sum()\n",
    "unique = {c: len(bebyggelse[c].unique()) for c in bebyggelse}\n",
    "pd.DataFrame({\n",
    "    'missing_values': missing,\n",
    "    'unique_values': unique\n",
    "})"
   ]
  },
  {
   "cell_type": "markdown",
   "id": "7a3e6155-779e-4086-b9f9-da0345bc5274",
   "metadata": {},
   "source": [
    "A lot of the data is missing values, many columns have only very few different values, and many of these columns are not relevant to us. \n",
    "The relevant ID fields here are 'id_lokalid' and 'bebyggelseskode' (based on manual investigation).\n",
    "From manual investigation, I have determined that only 'navn_1_skrivemaade' is needed to identify the building by name.\n",
    "We of course need the geometry.\n",
    "Finally, 'bebyggelsestype' is interesting to show what kind of buildings we are talking about."
   ]
  },
  {
   "cell_type": "code",
   "execution_count": 6,
   "id": "95bf7f0c-dc35-4c10-ab1a-dfa706667f20",
   "metadata": {},
   "outputs": [
    {
     "data": {
      "text/html": [
       "<div>\n",
       "<style scoped>\n",
       "    .dataframe tbody tr th:only-of-type {\n",
       "        vertical-align: middle;\n",
       "    }\n",
       "\n",
       "    .dataframe tbody tr th {\n",
       "        vertical-align: top;\n",
       "    }\n",
       "\n",
       "    .dataframe thead th {\n",
       "        text-align: right;\n",
       "    }\n",
       "</style>\n",
       "<table border=\"1\" class=\"dataframe\">\n",
       "  <thead>\n",
       "    <tr style=\"text-align: right;\">\n",
       "      <th></th>\n",
       "      <th>id_lokalid</th>\n",
       "      <th>bebyggelseskode</th>\n",
       "      <th>navn_1_skrivemaade</th>\n",
       "      <th>bebyggelsestype</th>\n",
       "      <th>geometry</th>\n",
       "    </tr>\n",
       "  </thead>\n",
       "  <tbody>\n",
       "    <tr>\n",
       "      <th>0</th>\n",
       "      <td>12337669-a083-6b98-e053-d480220a5a3f</td>\n",
       "      <td>NaN</td>\n",
       "      <td>Trustrup</td>\n",
       "      <td>spredtBebyggelse</td>\n",
       "      <td>MULTIPOLYGON Z (((499990.460 6276153.270 0.000...</td>\n",
       "    </tr>\n",
       "    <tr>\n",
       "      <th>8137</th>\n",
       "      <td>12337669-be96-6b98-e053-d480220a5a3f</td>\n",
       "      <td>NaN</td>\n",
       "      <td>Trustrup</td>\n",
       "      <td>spredtBebyggelse</td>\n",
       "      <td>MULTIPOLYGON Z (((519335.460 6323865.970 0.000...</td>\n",
       "    </tr>\n",
       "    <tr>\n",
       "      <th>9836</th>\n",
       "      <td>12337669-c660-6b98-e053-d480220a5a3f</td>\n",
       "      <td>16460.0</td>\n",
       "      <td>Trustrup</td>\n",
       "      <td>by</td>\n",
       "      <td>MULTIPOLYGON Z (((564827.230 6195738.240 0.000...</td>\n",
       "    </tr>\n",
       "    <tr>\n",
       "      <th>14566</th>\n",
       "      <td>12337669-c851-6b98-e053-d480220a5a3f</td>\n",
       "      <td>10590.0</td>\n",
       "      <td>Trustrup</td>\n",
       "      <td>by</td>\n",
       "      <td>MULTIPOLYGON Z (((609541.160 6246612.370 0.000...</td>\n",
       "    </tr>\n",
       "    <tr>\n",
       "      <th>16924</th>\n",
       "      <td>12337669-c975-6b98-e053-d480220a5a3f</td>\n",
       "      <td>12596.0</td>\n",
       "      <td>Trustrup</td>\n",
       "      <td>by</td>\n",
       "      <td>MULTIPOLYGON Z (((567965.360 6249575.790 0.000...</td>\n",
       "    </tr>\n",
       "  </tbody>\n",
       "</table>\n",
       "</div>"
      ],
      "text/plain": [
       "                                 id_lokalid  bebyggelseskode  \\\n",
       "0      12337669-a083-6b98-e053-d480220a5a3f              NaN   \n",
       "8137   12337669-be96-6b98-e053-d480220a5a3f              NaN   \n",
       "9836   12337669-c660-6b98-e053-d480220a5a3f          16460.0   \n",
       "14566  12337669-c851-6b98-e053-d480220a5a3f          10590.0   \n",
       "16924  12337669-c975-6b98-e053-d480220a5a3f          12596.0   \n",
       "\n",
       "      navn_1_skrivemaade   bebyggelsestype  \\\n",
       "0               Trustrup  spredtBebyggelse   \n",
       "8137            Trustrup  spredtBebyggelse   \n",
       "9836            Trustrup                by   \n",
       "14566           Trustrup                by   \n",
       "16924           Trustrup                by   \n",
       "\n",
       "                                                geometry  \n",
       "0      MULTIPOLYGON Z (((499990.460 6276153.270 0.000...  \n",
       "8137   MULTIPOLYGON Z (((519335.460 6323865.970 0.000...  \n",
       "9836   MULTIPOLYGON Z (((564827.230 6195738.240 0.000...  \n",
       "14566  MULTIPOLYGON Z (((609541.160 6246612.370 0.000...  \n",
       "16924  MULTIPOLYGON Z (((567965.360 6249575.790 0.000...  "
      ]
     },
     "execution_count": 6,
     "metadata": {},
     "output_type": "execute_result"
    }
   ],
   "source": [
    "bebyggelse = bebyggelse[['id_lokalid', 'bebyggelseskode', 'navn_1_skrivemaade', 'bebyggelsestype', 'geometry']]\n",
    "bebyggelse['bebyggelsestype'].unique()\n",
    "bebyggelse[bebyggelse['bebyggelsestype'] == 'spredtBebyggelse']\n",
    "bebyggelse[bebyggelse['navn_1_skrivemaade'] == 'Trustrup']"
   ]
  },
  {
   "cell_type": "markdown",
   "id": "cf84f039-5d3e-4e3d-8f91-2758717a7791",
   "metadata": {
    "jp-MarkdownHeadingCollapsed": true,
    "tags": []
   },
   "source": [
    "### Inhabitants file"
   ]
  },
  {
   "cell_type": "markdown",
   "id": "030f743c-ae73-4338-b66f-540225096cea",
   "metadata": {},
   "source": [
    "This data contains the official (CPR) adress count for each settlement. \n",
    "Notably, people may in practice live part time or fully somewhere else than their address."
   ]
  },
  {
   "cell_type": "code",
   "execution_count": 7,
   "id": "ff00b51d-b541-4ed8-8393-7590b9637d69",
   "metadata": {},
   "outputs": [
    {
     "data": {
      "text/plain": [
       "Index(['stednavne_uuid', 'skrivemaade', 'optaellingsdato', 'bebyggelseskode',\n",
       "       'tot_indb', 'tot_hus'],\n",
       "      dtype='object')"
      ]
     },
     "execution_count": 7,
     "metadata": {},
     "output_type": "execute_result"
    }
   ],
   "source": [
    "indbyggertal = csvrf(dir_buildings, fp_indbyggertal)\n",
    "indbyggertal.columns"
   ]
  },
  {
   "cell_type": "markdown",
   "id": "aa391bcf-b0eb-4566-b437-6f42f4f70464",
   "metadata": {},
   "source": [
    "Only one record does not refer to a building. It is outdated, and seems to be irrelevant:"
   ]
  },
  {
   "cell_type": "code",
   "execution_count": 8,
   "id": "6d4884e0-708e-42e5-9957-307dac95c247",
   "metadata": {},
   "outputs": [
    {
     "data": {
      "text/html": [
       "<div>\n",
       "<style scoped>\n",
       "    .dataframe tbody tr th:only-of-type {\n",
       "        vertical-align: middle;\n",
       "    }\n",
       "\n",
       "    .dataframe tbody tr th {\n",
       "        vertical-align: top;\n",
       "    }\n",
       "\n",
       "    .dataframe thead th {\n",
       "        text-align: right;\n",
       "    }\n",
       "</style>\n",
       "<table border=\"1\" class=\"dataframe\">\n",
       "  <thead>\n",
       "    <tr style=\"text-align: right;\">\n",
       "      <th></th>\n",
       "      <th>stednavne_uuid</th>\n",
       "      <th>skrivemaade</th>\n",
       "      <th>optaellingsdato</th>\n",
       "      <th>bebyggelseskode</th>\n",
       "      <th>tot_indb</th>\n",
       "      <th>tot_hus</th>\n",
       "    </tr>\n",
       "  </thead>\n",
       "  <tbody>\n",
       "    <tr>\n",
       "      <th>72670</th>\n",
       "      <td>NaN</td>\n",
       "      <td>Landområde</td>\n",
       "      <td>2022/01/01</td>\n",
       "      <td>99999</td>\n",
       "      <td>2</td>\n",
       "      <td>1</td>\n",
       "    </tr>\n",
       "  </tbody>\n",
       "</table>\n",
       "</div>"
      ],
      "text/plain": [
       "      stednavne_uuid skrivemaade optaellingsdato  bebyggelseskode  tot_indb  \\\n",
       "72670            NaN  Landområde      2022/01/01            99999         2   \n",
       "\n",
       "       tot_hus  \n",
       "72670        1  "
      ]
     },
     "execution_count": 8,
     "metadata": {},
     "output_type": "execute_result"
    }
   ],
   "source": [
    "indbyggertal[indbyggertal['stednavne_uuid'].isna()]"
   ]
  },
  {
   "cell_type": "markdown",
   "id": "51eb736e-c697-4962-94d5-408cda3ff5a6",
   "metadata": {},
   "source": [
    "The data is split over different years measured:"
   ]
  },
  {
   "cell_type": "code",
   "execution_count": 9,
   "id": "c2722a0a-987e-4174-b44f-12d5189f489c",
   "metadata": {},
   "outputs": [
    {
     "data": {
      "text/plain": [
       "[<matplotlib.lines.Line2D at 0x7fff6f501250>]"
      ]
     },
     "execution_count": 9,
     "metadata": {},
     "output_type": "execute_result"
    },
    {
     "data": {
      "image/png": "[encoded data removed]",
      "text/plain": [
       "<Figure size 792x648 with 3 Axes>"
      ]
     },
     "metadata": {
      "needs_background": "light"
     },
     "output_type": "display_data"
    }
   ],
   "source": [
    "grouped = indbyggertal.groupby('optaellingsdato').agg(\n",
    "    {'stednavne_uuid': 'count', \n",
    "     'tot_hus': 'sum',\n",
    "     'tot_indb': 'sum'}\n",
    ")\n",
    "f, axs = plt.subplots(3, figsize=(11,9))\n",
    "axs[0].plot(grouped['stednavne_uuid'])\n",
    "axs[1].plot(grouped['tot_hus'])\n",
    "axs[2].plot(grouped['tot_indb'])"
   ]
  },
  {
   "cell_type": "markdown",
   "id": "062d2b3b-7118-402d-ba6b-7a4b14ef4a63",
   "metadata": {},
   "source": [
    "From this, we learn that the number of named places, number of houses, and number of inhabitants increase regularly over time.\n",
    "We should also note that the total number of residents seem to be noticably less than the official national count of just under 6 million at january 2024 (see [dst.dk](https://www.dst.dk/da/Statistik/emner/borgere/befolkning/befolkningstal))\n",
    "We will investigate this further in the next main section of this notebook (heading \"validation\")."
   ]
  },
  {
   "cell_type": "markdown",
   "id": "e638762d-43ec-4594-b4e2-afc2e54341e4",
   "metadata": {},
   "source": [
    "We will work with data from 2024"
   ]
  },
  {
   "cell_type": "code",
   "execution_count": 10,
   "id": "6fa87c05-2f34-4d20-87b2-bf9278034447",
   "metadata": {},
   "outputs": [
    {
     "data": {
      "text/plain": [
       "8459"
      ]
     },
     "execution_count": 10,
     "metadata": {},
     "output_type": "execute_result"
    }
   ],
   "source": [
    "indbyggertal = indbyggertal[indbyggertal['optaellingsdato'] == '2024/01/01']\n",
    "indbyggertal = indbyggertal[~indbyggertal['stednavne_uuid'].isna()]\n",
    "indbyggertal = indbyggertal.drop(['optaellingsdato'], axis=1)\n",
    "li(indbyggertal)"
   ]
  },
  {
   "cell_type": "markdown",
   "id": "d3677150-5790-440c-a5a5-8846fe89f072",
   "metadata": {},
   "source": [
    "We are not interested in places with no inhabitants.\n",
    "Are there any? If so, we drop them immediatly."
   ]
  },
  {
   "cell_type": "code",
   "execution_count": 11,
   "id": "69501849-8d79-498b-9214-6f16a483d527",
   "metadata": {},
   "outputs": [
    {
     "data": {
      "text/plain": [
       "421"
      ]
     },
     "execution_count": 11,
     "metadata": {},
     "output_type": "execute_result"
    }
   ],
   "source": [
    "uninhabited = indbyggertal[indbyggertal['tot_indb'] < 1]\n",
    "li(uninhabited)"
   ]
  },
  {
   "cell_type": "code",
   "execution_count": 12,
   "id": "80403c0a-4d0f-4377-ac0d-bb80eb9b8dc0",
   "metadata": {},
   "outputs": [],
   "source": [
    "indbyggertal = indbyggertal.drop(uninhabited.index)"
   ]
  },
  {
   "cell_type": "markdown",
   "id": "da5add21-1c35-443e-899f-14b71aa5a910",
   "metadata": {
    "jp-MarkdownHeadingCollapsed": true,
    "tags": []
   },
   "source": [
    "### Merging"
   ]
  },
  {
   "cell_type": "markdown",
   "id": "bfc7459d-49cb-4a67-a927-bf9d25054987",
   "metadata": {},
   "source": [
    "Next, we want to merge the two data sources on their primary id field."
   ]
  },
  {
   "cell_type": "code",
   "execution_count": 13,
   "id": "2622049b-3d95-48de-9b85-7decdd2416b2",
   "metadata": {},
   "outputs": [
    {
     "data": {
      "text/plain": [
       "Index(['id_lokalid', 'bebyggelseskode_x', 'navn_1_skrivemaade',\n",
       "       'bebyggelsestype', 'geometry', 'stednavne_uuid', 'skrivemaade',\n",
       "       'bebyggelseskode_y', 'tot_indb', 'tot_hus'],\n",
       "      dtype='object')"
      ]
     },
     "execution_count": 13,
     "metadata": {},
     "output_type": "execute_result"
    }
   ],
   "source": [
    "merged = bebyggelse.merge(indbyggertal, left_on='id_lokalid', right_on='stednavne_uuid')\n",
    "merged.columns"
   ]
  },
  {
   "cell_type": "markdown",
   "id": "d974a40b-88c8-4efb-91ed-464eaae9378f",
   "metadata": {},
   "source": [
    "Now, we want to merge the columns that we assume contain duplicate data.\n",
    "\n",
    "By definition of inner join, the two id fields are then equivalent, and can be merged."
   ]
  },
  {
   "cell_type": "markdown",
   "id": "c4da244c-d631-4948-8058-5972b0cbdb68",
   "metadata": {},
   "source": [
    "**Merging ID fields**"
   ]
  },
  {
   "cell_type": "code",
   "execution_count": 14,
   "id": "c34e7e1f-206b-48fb-a31a-e745d930a435",
   "metadata": {},
   "outputs": [],
   "source": [
    "merged = mergecol(merged, 'stednavne_uuid', 'id_lokalid', 'id')"
   ]
  },
  {
   "cell_type": "code",
   "execution_count": 15,
   "id": "47c6d03f-ff3b-4930-8bc1-25dbceccda11",
   "metadata": {},
   "outputs": [
    {
     "name": "stdout",
     "output_type": "stream",
     "text": [
      "'bebyggelseskode' fields are equivalent:  False\n"
     ]
    }
   ],
   "source": [
    "merged['bebyggelseskode_x'] = pd.to_numeric(merged['bebyggelseskode_x'], downcast='integer')\n",
    "merged['bebyggelseskode_y'] = pd.to_numeric(merged['bebyggelseskode_y'], downcast='integer')\n",
    "print(\"'bebyggelseskode' fields are equivalent: \", merged['bebyggelseskode_x'].equals(merged['bebyggelseskode_y']))"
   ]
  },
  {
   "cell_type": "markdown",
   "id": "6305a468-ba1c-47d0-aed5-4a53c9f8ac57",
   "metadata": {},
   "source": [
    "**Merging building codes**"
   ]
  },
  {
   "cell_type": "code",
   "execution_count": 16,
   "id": "37016128-fb5c-467f-804a-11d41b9e365a",
   "metadata": {},
   "outputs": [
    {
     "name": "stdout",
     "output_type": "stream",
     "text": [
      "Number of differing entries:  2\n"
     ]
    },
    {
     "data": {
      "text/html": [
       "<div>\n",
       "<style scoped>\n",
       "    .dataframe tbody tr th:only-of-type {\n",
       "        vertical-align: middle;\n",
       "    }\n",
       "\n",
       "    .dataframe tbody tr th {\n",
       "        vertical-align: top;\n",
       "    }\n",
       "\n",
       "    .dataframe thead th {\n",
       "        text-align: right;\n",
       "    }\n",
       "</style>\n",
       "<table border=\"1\" class=\"dataframe\">\n",
       "  <thead>\n",
       "    <tr style=\"text-align: right;\">\n",
       "      <th></th>\n",
       "      <th>bebyggelseskode_x</th>\n",
       "      <th>bebyggelseskode_y</th>\n",
       "    </tr>\n",
       "  </thead>\n",
       "  <tbody>\n",
       "    <tr>\n",
       "      <th>7724</th>\n",
       "      <td>NaN</td>\n",
       "      <td>10918</td>\n",
       "    </tr>\n",
       "    <tr>\n",
       "      <th>7735</th>\n",
       "      <td>NaN</td>\n",
       "      <td>18994</td>\n",
       "    </tr>\n",
       "  </tbody>\n",
       "</table>\n",
       "</div>"
      ],
      "text/plain": [
       "      bebyggelseskode_x  bebyggelseskode_y\n",
       "7724                NaN              10918\n",
       "7735                NaN              18994"
      ]
     },
     "execution_count": 16,
     "metadata": {},
     "output_type": "execute_result"
    }
   ],
   "source": [
    "diff = merged[merged['bebyggelseskode_x'] != merged['bebyggelseskode_y']]\n",
    "print(\"Number of differing entries: \",li(diff))\n",
    "diff[['bebyggelseskode_x', 'bebyggelseskode_y']]"
   ]
  },
  {
   "cell_type": "markdown",
   "id": "86ff42a8-45e7-4ed1-987f-dbacd8acc612",
   "metadata": {},
   "source": [
    "The values are just missing from x, so we keep y. \n",
    "This id is a short building code, and we have mostly kept it to validate that the primary ID is sensible."
   ]
  },
  {
   "cell_type": "code",
   "execution_count": 17,
   "id": "63d86153-679b-46cf-a461-9f729e1e3ae6",
   "metadata": {},
   "outputs": [
    {
     "data": {
      "text/plain": [
       "True"
      ]
     },
     "execution_count": 17,
     "metadata": {},
     "output_type": "execute_result"
    }
   ],
   "source": [
    "merged = mergecol(merged, 'bebyggelseskode_y', 'bebyggelseskode_x', 'code')\n",
    "merged['code'].is_unique"
   ]
  },
  {
   "cell_type": "markdown",
   "id": "fb6052d6-7898-4fbf-8047-c28e550997ed",
   "metadata": {},
   "source": [
    "**Merging name fields**"
   ]
  },
  {
   "cell_type": "code",
   "execution_count": 18,
   "id": "81603a26-0f1f-4ac0-8142-ab3002cfe8f4",
   "metadata": {},
   "outputs": [
    {
     "name": "stdout",
     "output_type": "stream",
     "text": [
      "Number of differing entries:  1\n"
     ]
    },
    {
     "data": {
      "text/html": [
       "<div>\n",
       "<style scoped>\n",
       "    .dataframe tbody tr th:only-of-type {\n",
       "        vertical-align: middle;\n",
       "    }\n",
       "\n",
       "    .dataframe tbody tr th {\n",
       "        vertical-align: top;\n",
       "    }\n",
       "\n",
       "    .dataframe thead th {\n",
       "        text-align: right;\n",
       "    }\n",
       "</style>\n",
       "<table border=\"1\" class=\"dataframe\">\n",
       "  <thead>\n",
       "    <tr style=\"text-align: right;\">\n",
       "      <th></th>\n",
       "      <th>skrivemaade</th>\n",
       "      <th>navn_1_skrivemaade</th>\n",
       "    </tr>\n",
       "  </thead>\n",
       "  <tbody>\n",
       "    <tr>\n",
       "      <th>7843</th>\n",
       "      <td>Remmer Strand</td>\n",
       "      <td>Remmerstrand</td>\n",
       "    </tr>\n",
       "  </tbody>\n",
       "</table>\n",
       "</div>"
      ],
      "text/plain": [
       "        skrivemaade navn_1_skrivemaade\n",
       "7843  Remmer Strand       Remmerstrand"
      ]
     },
     "execution_count": 18,
     "metadata": {},
     "output_type": "execute_result"
    }
   ],
   "source": [
    "diff = merged[merged['skrivemaade'] != merged['navn_1_skrivemaade']]\n",
    "print(\"Number of differing entries: \",li(diff))\n",
    "diff[['skrivemaade', 'navn_1_skrivemaade']]"
   ]
  },
  {
   "cell_type": "markdown",
   "id": "bca4553a-851b-4e0a-9d06-4494ce4b988a",
   "metadata": {},
   "source": [
    "Acceptable difference - we will keep the 'skrivemaade' field as it is complete"
   ]
  },
  {
   "cell_type": "code",
   "execution_count": 19,
   "id": "3b3f633c-7480-4f99-afb5-43c7d1254937",
   "metadata": {},
   "outputs": [],
   "source": [
    "merged = mergecol(merged, 'skrivemaade', 'navn_1_skrivemaade', 'name')"
   ]
  },
  {
   "cell_type": "markdown",
   "id": "53e283bf-efb6-4051-ae0d-59b544e163ed",
   "metadata": {
    "tags": []
   },
   "source": [
    "### Renaming"
   ]
  },
  {
   "cell_type": "markdown",
   "id": "fcfdafb9-1c06-4e59-9e61-bea127497c22",
   "metadata": {},
   "source": [
    "Let's rename the 'bebyggelsestype' field. \n",
    "It refers to the kind of settlement the geometry describes.\n",
    "There are more different settlement types in the original data set, but many of them are not supposed to be inhabited.\n",
    "The three types left are \"city / town\", \"city quarter\", and \"summer house area\".\n",
    "Let's translate so the labels are easier to remember."
   ]
  },
  {
   "cell_type": "code",
   "execution_count": 20,
   "id": "3e4503ae-9ccb-4e56-8dfe-aeba1babd76b",
   "metadata": {},
   "outputs": [
    {
     "name": "stdout",
     "output_type": "stream",
     "text": [
      "Types of buildings in the final dataset:    ['sommerhusområde' 'by' 'bydel']\n",
      "Types of buildings in the initial dataset:  ['spredtBebyggelse' 'sommerhusområdedel' 'bydel' 'industriområde'\n",
      " 'kolonihave' 'sommerhusområde' 'by']\n"
     ]
    }
   ],
   "source": [
    "print(\"Types of buildings in the final dataset:   \", merged['bebyggelsestype'].unique())\n",
    "print(\"Types of buildings in the initial dataset: \", bebyggelse['bebyggelsestype'].unique())"
   ]
  },
  {
   "cell_type": "code",
   "execution_count": 21,
   "id": "e6e7317e-3750-4e0f-9b3e-195e328d13b2",
   "metadata": {},
   "outputs": [
    {
     "data": {
      "text/html": [
       "<div>\n",
       "<style scoped>\n",
       "    .dataframe tbody tr th:only-of-type {\n",
       "        vertical-align: middle;\n",
       "    }\n",
       "\n",
       "    .dataframe tbody tr th {\n",
       "        vertical-align: top;\n",
       "    }\n",
       "\n",
       "    .dataframe thead th {\n",
       "        text-align: right;\n",
       "    }\n",
       "</style>\n",
       "<table border=\"1\" class=\"dataframe\">\n",
       "  <thead>\n",
       "    <tr style=\"text-align: right;\">\n",
       "      <th></th>\n",
       "      <th>bebyggelsestype</th>\n",
       "      <th>geometry</th>\n",
       "      <th>id</th>\n",
       "      <th>name</th>\n",
       "      <th>code</th>\n",
       "      <th>tot_indb</th>\n",
       "      <th>tot_hus</th>\n",
       "    </tr>\n",
       "  </thead>\n",
       "  <tbody>\n",
       "    <tr>\n",
       "      <th>7724</th>\n",
       "      <td>bydel</td>\n",
       "      <td>MULTIPOLYGON Z (((526499.010 6254147.420 0.000...</td>\n",
       "      <td>12337669-ba4c-6b98-e053-d480220a5a3f</td>\n",
       "      <td>Bruunshåb</td>\n",
       "      <td>10918</td>\n",
       "      <td>776</td>\n",
       "      <td>304</td>\n",
       "    </tr>\n",
       "    <tr>\n",
       "      <th>7735</th>\n",
       "      <td>bydel</td>\n",
       "      <td>MULTIPOLYGON Z (((678857.821 6164195.393 0.000...</td>\n",
       "      <td>f454debf-2664-23d3-e053-0c4f210ada1a</td>\n",
       "      <td>Frikøbing</td>\n",
       "      <td>18994</td>\n",
       "      <td>142</td>\n",
       "      <td>55</td>\n",
       "    </tr>\n",
       "  </tbody>\n",
       "</table>\n",
       "</div>"
      ],
      "text/plain": [
       "     bebyggelsestype                                           geometry  \\\n",
       "7724           bydel  MULTIPOLYGON Z (((526499.010 6254147.420 0.000...   \n",
       "7735           bydel  MULTIPOLYGON Z (((678857.821 6164195.393 0.000...   \n",
       "\n",
       "                                        id       name   code  tot_indb  \\\n",
       "7724  12337669-ba4c-6b98-e053-d480220a5a3f  Bruunshåb  10918       776   \n",
       "7735  f454debf-2664-23d3-e053-0c4f210ada1a  Frikøbing  18994       142   \n",
       "\n",
       "      tot_hus  \n",
       "7724      304  \n",
       "7735       55  "
      ]
     },
     "execution_count": 21,
     "metadata": {},
     "output_type": "execute_result"
    }
   ],
   "source": [
    "merged[merged['bebyggelsestype'] == 'bydel']"
   ]
  },
  {
   "cell_type": "markdown",
   "id": "8cd0e3d3-3039-4c69-a605-ad55b2d6908e",
   "metadata": {},
   "source": [
    "We see that there are only two 'bydel' (\"city quarter\") settlements, so we might as well turn them into 'city/town' to simplify the data set."
   ]
  },
  {
   "cell_type": "code",
   "execution_count": 22,
   "id": "bede2507-95be-4b8b-ae0a-95c306ce98a1",
   "metadata": {},
   "outputs": [],
   "source": [
    "merged = merged.rename(columns={'bebyggelsestype': 'type',\n",
    "                               'tot_indb': 'population',\n",
    "                               'tot_hus': 'households'})\n",
    "merged.loc[merged['type'] == 'sommerhusområde','type'] = 'summer house'\n",
    "merged.loc[merged['type'] == 'by','type'] = 'town'\n",
    "merged.loc[merged['type'] == 'bydel','type'] = 'town'"
   ]
  },
  {
   "cell_type": "code",
   "execution_count": 23,
   "id": "54de09ff-fca9-497a-9eb5-64289c542394",
   "metadata": {},
   "outputs": [
    {
     "data": {
      "text/html": [
       "<div>\n",
       "<style scoped>\n",
       "    .dataframe tbody tr th:only-of-type {\n",
       "        vertical-align: middle;\n",
       "    }\n",
       "\n",
       "    .dataframe tbody tr th {\n",
       "        vertical-align: top;\n",
       "    }\n",
       "\n",
       "    .dataframe thead th {\n",
       "        text-align: right;\n",
       "    }\n",
       "</style>\n",
       "<table border=\"1\" class=\"dataframe\">\n",
       "  <thead>\n",
       "    <tr style=\"text-align: right;\">\n",
       "      <th></th>\n",
       "      <th>type</th>\n",
       "      <th>geometry</th>\n",
       "      <th>id</th>\n",
       "      <th>name</th>\n",
       "      <th>code</th>\n",
       "      <th>population</th>\n",
       "      <th>households</th>\n",
       "    </tr>\n",
       "  </thead>\n",
       "  <tbody>\n",
       "    <tr>\n",
       "      <th>818</th>\n",
       "      <td>town</td>\n",
       "      <td>MULTIPOLYGON Z (((648246.380 6140049.840 0.000...</td>\n",
       "      <td>12337669-d19c-6b98-e053-d480220a5a3f</td>\n",
       "      <td>Bjergby Overmark</td>\n",
       "      <td>12630</td>\n",
       "      <td>21</td>\n",
       "      <td>10</td>\n",
       "    </tr>\n",
       "    <tr>\n",
       "      <th>3628</th>\n",
       "      <td>town</td>\n",
       "      <td>MULTIPOLYGON Z (((571260.390 6122034.370 0.000...</td>\n",
       "      <td>12337669-c332-6b98-e053-d480220a5a3f</td>\n",
       "      <td>Holmehuse</td>\n",
       "      <td>11945</td>\n",
       "      <td>3</td>\n",
       "      <td>1</td>\n",
       "    </tr>\n",
       "    <tr>\n",
       "      <th>5224</th>\n",
       "      <td>town</td>\n",
       "      <td>MULTIPOLYGON Z (((686781.970 6148881.210 0.000...</td>\n",
       "      <td>12337669-da91-6b98-e053-d480220a5a3f</td>\n",
       "      <td>Slimminge</td>\n",
       "      <td>10198</td>\n",
       "      <td>492</td>\n",
       "      <td>185</td>\n",
       "    </tr>\n",
       "  </tbody>\n",
       "</table>\n",
       "</div>"
      ],
      "text/plain": [
       "      type                                           geometry  \\\n",
       "818   town  MULTIPOLYGON Z (((648246.380 6140049.840 0.000...   \n",
       "3628  town  MULTIPOLYGON Z (((571260.390 6122034.370 0.000...   \n",
       "5224  town  MULTIPOLYGON Z (((686781.970 6148881.210 0.000...   \n",
       "\n",
       "                                        id              name   code  \\\n",
       "818   12337669-d19c-6b98-e053-d480220a5a3f  Bjergby Overmark  12630   \n",
       "3628  12337669-c332-6b98-e053-d480220a5a3f         Holmehuse  11945   \n",
       "5224  12337669-da91-6b98-e053-d480220a5a3f         Slimminge  10198   \n",
       "\n",
       "      population  households  \n",
       "818           21          10  \n",
       "3628           3           1  \n",
       "5224         492         185  "
      ]
     },
     "execution_count": 23,
     "metadata": {},
     "output_type": "execute_result"
    }
   ],
   "source": [
    "settlements = merged\n",
    "settlements.sample(3)"
   ]
  },
  {
   "cell_type": "markdown",
   "id": "0314385c-40df-4f18-ad47-cdbcd1a57ec1",
   "metadata": {
    "tags": []
   },
   "source": [
    "## Final changes"
   ]
  },
  {
   "cell_type": "markdown",
   "id": "f0895824-6626-4cde-8157-853009eec24d",
   "metadata": {
    "tags": []
   },
   "source": [
    "### Calculating additional data"
   ]
  },
  {
   "cell_type": "markdown",
   "id": "25fa46a6-4f3a-46d0-960d-7ea4741c405b",
   "metadata": {},
   "source": [
    "The final task is to add some useful calculated data to our data set.\n",
    "We are interested in the area and population density of our shapes, as they vary quite a bit between "
   ]
  },
  {
   "cell_type": "code",
   "execution_count": 24,
   "id": "b7862aa9-3a28-4b3f-9286-5e99764262b1",
   "metadata": {},
   "outputs": [
    {
     "data": {
      "text/html": [
       "<div>\n",
       "<style scoped>\n",
       "    .dataframe tbody tr th:only-of-type {\n",
       "        vertical-align: middle;\n",
       "    }\n",
       "\n",
       "    .dataframe tbody tr th {\n",
       "        vertical-align: top;\n",
       "    }\n",
       "\n",
       "    .dataframe thead th {\n",
       "        text-align: right;\n",
       "    }\n",
       "</style>\n",
       "<table border=\"1\" class=\"dataframe\">\n",
       "  <thead>\n",
       "    <tr style=\"text-align: right;\">\n",
       "      <th></th>\n",
       "      <th>type</th>\n",
       "      <th>geometry</th>\n",
       "      <th>id</th>\n",
       "      <th>name</th>\n",
       "      <th>code</th>\n",
       "      <th>population</th>\n",
       "      <th>households</th>\n",
       "      <th>density</th>\n",
       "      <th>area</th>\n",
       "    </tr>\n",
       "  </thead>\n",
       "  <tbody>\n",
       "    <tr>\n",
       "      <th>0</th>\n",
       "      <td>summer house</td>\n",
       "      <td>MULTIPOLYGON Z (((591655.890 6158521.930 0.000...</td>\n",
       "      <td>12337669-c41e-6b98-e053-d480220a5a3f</td>\n",
       "      <td>Hasmark Strand</td>\n",
       "      <td>70226</td>\n",
       "      <td>126</td>\n",
       "      <td>79</td>\n",
       "      <td>155.582165</td>\n",
       "      <td>0.809861</td>\n",
       "    </tr>\n",
       "    <tr>\n",
       "      <th>1</th>\n",
       "      <td>summer house</td>\n",
       "      <td>MULTIPOLYGON Z (((474592.140 6273478.560 0.000...</td>\n",
       "      <td>12337669-a9ab-6b98-e053-d480220a5a3f</td>\n",
       "      <td>Serup Strand</td>\n",
       "      <td>70419</td>\n",
       "      <td>9</td>\n",
       "      <td>6</td>\n",
       "      <td>29.495164</td>\n",
       "      <td>0.305135</td>\n",
       "    </tr>\n",
       "  </tbody>\n",
       "</table>\n",
       "</div>"
      ],
      "text/plain": [
       "           type                                           geometry  \\\n",
       "0  summer house  MULTIPOLYGON Z (((591655.890 6158521.930 0.000...   \n",
       "1  summer house  MULTIPOLYGON Z (((474592.140 6273478.560 0.000...   \n",
       "\n",
       "                                     id            name   code  population  \\\n",
       "0  12337669-c41e-6b98-e053-d480220a5a3f  Hasmark Strand  70226         126   \n",
       "1  12337669-a9ab-6b98-e053-d480220a5a3f    Serup Strand  70419           9   \n",
       "\n",
       "   households     density      area  \n",
       "0          79  155.582165  0.809861  \n",
       "1           6   29.495164  0.305135  "
      ]
     },
     "execution_count": 24,
     "metadata": {},
     "output_type": "execute_result"
    }
   ],
   "source": [
    "areas = settlements['geometry'].area / 1000000 # In square kilometers km^2\n",
    "density = settlements['population'] / areas # Inhabitants per square kilometer\n",
    "\n",
    "settlements['density'] = density\n",
    "settlements['area'] = areas\n",
    "\n",
    "settlements.head(2)"
   ]
  },
  {
   "cell_type": "markdown",
   "id": "d671243f-65e3-49d2-b453-9967c1dbbd1b",
   "metadata": {
    "tags": []
   },
   "source": [
    "### Sanity check"
   ]
  },
  {
   "cell_type": "markdown",
   "id": "a7dcb13b-7586-4320-afc4-6fa71e3caf83",
   "metadata": {},
   "source": [
    "Let's check if any data got lost"
   ]
  },
  {
   "cell_type": "code",
   "execution_count": 25,
   "id": "f4dfafc6-063d-4eff-8104-136b5380a3d0",
   "metadata": {},
   "outputs": [
    {
     "name": "stdout",
     "output_type": "stream",
     "text": [
      "Records in 'merged':  8038\n",
      "Records in indbyggertal (from 2024): 8038\n",
      "No data has been lost!\n"
     ]
    }
   ],
   "source": [
    "print(\"Records in 'merged': \", li(merged))\n",
    "print(\"Records in indbyggertal (from 2024):\", li(indbyggertal))\n",
    "print(\"No data has been lost!\")"
   ]
  },
  {
   "cell_type": "markdown",
   "id": "3c2cf4a5-dc58-45e9-820c-d67f8b2a9296",
   "metadata": {},
   "source": [
    "Do we have any invalid geometries?"
   ]
  },
  {
   "cell_type": "code",
   "execution_count": 26,
   "id": "254375c7-693a-4deb-8246-b248f8856415",
   "metadata": {},
   "outputs": [
    {
     "data": {
      "text/html": [
       "<div>\n",
       "<style scoped>\n",
       "    .dataframe tbody tr th:only-of-type {\n",
       "        vertical-align: middle;\n",
       "    }\n",
       "\n",
       "    .dataframe tbody tr th {\n",
       "        vertical-align: top;\n",
       "    }\n",
       "\n",
       "    .dataframe thead th {\n",
       "        text-align: right;\n",
       "    }\n",
       "</style>\n",
       "<table border=\"1\" class=\"dataframe\">\n",
       "  <thead>\n",
       "    <tr style=\"text-align: right;\">\n",
       "      <th></th>\n",
       "      <th>type</th>\n",
       "      <th>geometry</th>\n",
       "      <th>id</th>\n",
       "      <th>name</th>\n",
       "      <th>code</th>\n",
       "      <th>population</th>\n",
       "      <th>households</th>\n",
       "      <th>density</th>\n",
       "      <th>area</th>\n",
       "    </tr>\n",
       "  </thead>\n",
       "  <tbody>\n",
       "  </tbody>\n",
       "</table>\n",
       "</div>"
      ],
      "text/plain": [
       "Empty GeoDataFrame\n",
       "Columns: [type, geometry, id, name, code, population, households, density, area]\n",
       "Index: []"
      ]
     },
     "execution_count": 26,
     "metadata": {},
     "output_type": "execute_result"
    }
   ],
   "source": [
    "settlements[settlements.is_valid == False]"
   ]
  },
  {
   "cell_type": "markdown",
   "id": "f1896aed-1262-43a1-8f46-68883acb9a3d",
   "metadata": {},
   "source": [
    "### Saving data"
   ]
  },
  {
   "cell_type": "code",
   "execution_count": 27,
   "id": "6bf8d208-6627-467f-998c-7c7ea0010e7d",
   "metadata": {},
   "outputs": [
    {
     "name": "stderr",
     "output_type": "stream",
     "text": [
      "/opt/conda/lib/python3.9/site-packages/geopandas/io/file.py:362: FutureWarning: pandas.Int64Index is deprecated and will be removed from pandas in a future version. Use pandas.Index with the appropriate dtype instead.\n",
      "  pd.Int64Index,\n"
     ]
    }
   ],
   "source": [
    "settlements.to_file(join(dir_data, \"cleaned\", \"settlements.gpkg\"), driver=\"GPKG\")"
   ]
  },
  {
   "cell_type": "code",
   "execution_count": 28,
   "id": "bed9f10f-b4a5-4e89-8796-555a67e7d5fe",
   "metadata": {},
   "outputs": [
    {
     "data": {
      "text/plain": [
       "<Derived Projected CRS: EPSG:25832>\n",
       "Name: ETRS89 / UTM zone 32N\n",
       "Axis Info [cartesian]:\n",
       "- E[east]: Easting (metre)\n",
       "- N[north]: Northing (metre)\n",
       "Area of Use:\n",
       "- name: Europe between 6°E and 12°E: Austria; Belgium; Denmark - onshore and offshore; Germany - onshore and offshore; Norway including - onshore and offshore; Spain - offshore.\n",
       "- bounds: (6.0, 38.76, 12.0, 84.33)\n",
       "Coordinate Operation:\n",
       "- name: UTM zone 32N\n",
       "- method: Transverse Mercator\n",
       "Datum: European Terrestrial Reference System 1989 ensemble\n",
       "- Ellipsoid: GRS 1980\n",
       "- Prime Meridian: Greenwich"
      ]
     },
     "execution_count": 28,
     "metadata": {},
     "output_type": "execute_result"
    }
   ],
   "source": [
    "settlements.crs"
   ]
  }
 ],
 "metadata": {
  "kernelspec": {
   "display_name": "Python 3 (ipykernel)",
   "language": "python",
   "name": "python3"
  },
  "language_info": {
   "codemirror_mode": {
    "name": "ipython",
    "version": 3
   },
   "file_extension": ".py",
   "mimetype": "text/x-python",
   "name": "python",
   "nbconvert_exporter": "python",
   "pygments_lexer": "ipython3",
   "version": "3.9.12"
  }
 },
 "nbformat": 4,
 "nbformat_minor": 5
}
