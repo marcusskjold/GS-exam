{
 "cells": [
  {
   "cell_type": "markdown",
   "id": "7e767504-2f14-4833-94a2-5b3a18e5cb7b",
   "metadata": {},
   "source": [
    "# Notes"
   ]
  },
  {
   "cell_type": "markdown",
   "id": "07c8b980-f2dc-4a55-bc97-08520a90b973",
   "metadata": {},
   "source": [
    "# Ideas and thoughts\n",
    "\n",
    "## Log\n",
    "\n",
    "2025-07-10 \n",
    "I am formally starting the project.\n",
    "I have been looking the last while a bit at the available transportation data for Denmark.\n",
    "I think it might be interesting to work with railroad data to begin with.\n",
    "However, for learnings' sake I would be really interested in using open street map, as that seems to be a very nice thing to be proficient with.\n",
    "\n",
    "Reviewing lecture 9.\n",
    "\n",
    "2025-07-11\n",
    "Continuing work. Feeling a bit lost.\n",
    "Downloading data from dataforsyningen.dk \n",
    "https://dataforsyningen.dk/data/2689.\n",
    "This is data over railways in Denmark.\n",
    "I'm trying to create a population density object.\n",
    "\n",
    "\n",
    "I have gotten this data on the number of residents:\n",
    "https://geodata-info.dk/srv/dan/catalog.search#/metadata/41e8458f-87f4-401b-b805-ce3f14936f8b\n",
    "\n",
    "https://dataforsyningen.dk/data/4875#origin\n",
    "\n",
    "And this shape data:\n",
    "https://datafordeler.dk/dataoversigt/danske-stednavne/danske-stednavne-fildownload-webbruger/\n",
    "\n",
    "First, I want to merge these data frames. However, there are many more rows in 'bebyggelsesdata'.\n",
    "I find out that this is because there is data for multiple years in 'bebyggelsesdata'.\n",
    "I assume the data is complete (as that is what dataforsyningens says), and so I can just filter out all the other years.\n",
    "\n",
    "2025-07-14\n",
    "I have trouble articulating a proper research question that is within scope...\n",
    "https://hub.worldpop.org/geodata/summary?id=40927\n",
    "\n"
   ]
  },
  {
   "cell_type": "code",
   "execution_count": 1,
   "id": "b6a48661-abaa-4c19-8785-c99c8661d91f",
   "metadata": {},
   "outputs": [
    {
     "name": "stdout",
     "output_type": "stream",
     "text": [
      "3.9.12\n"
     ]
    }
   ],
   "source": [
    "from platform import python_version\n",
    "\n",
    "print(python_version())"
   ]
  }
 ],
 "metadata": {
  "kernelspec": {
   "display_name": "Python 3 (ipykernel)",
   "language": "python",
   "name": "python3"
  },
  "language_info": {
   "codemirror_mode": {
    "name": "ipython",
    "version": 3
   },
   "file_extension": ".py",
   "mimetype": "text/x-python",
   "name": "python",
   "nbconvert_exporter": "python",
   "pygments_lexer": "ipython3",
   "version": "3.9.12"
  }
 },
 "nbformat": 4,
 "nbformat_minor": 5
}
