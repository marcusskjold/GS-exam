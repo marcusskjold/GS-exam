{
 "cells": [
  {
   "cell_type": "markdown",
   "id": "12eff78c-ebf8-43ce-8ea6-05ba4430481f",
   "metadata": {},
   "source": [
    "# Ideas and thoughts\n",
    "\n",
    "## Log\n",
    "\n",
    "2025-07-10 \n",
    "I am formally starting the project.\n",
    "I have been looking the last while a bit at the available transportation data for Denmark.\n",
    "I think it might be interesting to work with railroad data to begin with.\n",
    "However, for learnings' sake I would be really interested in using open street map, as that seems to be a very nice thing to be proficient with.\n",
    "\n",
    "Reviewing lecture 9."
   ]
  },
  {
   "cell_type": "code",
   "execution_count": null,
   "id": "2758b161-9446-4448-a0e4-929fd81eb0b1",
   "metadata": {
    "tags": []
   },
   "outputs": [],
   "source": []
  }
 ],
 "metadata": {
  "kernelspec": {
   "display_name": "Python 3 (ipykernel)",
   "language": "python",
   "name": "python3"
  },
  "language_info": {
   "codemirror_mode": {
    "name": "ipython",
    "version": 3
   },
   "file_extension": ".py",
   "mimetype": "text/x-python",
   "name": "python",
   "nbconvert_exporter": "python",
   "pygments_lexer": "ipython3",
   "version": "3.9.12"
  }
 },
 "nbformat": 4,
 "nbformat_minor": 5
}
