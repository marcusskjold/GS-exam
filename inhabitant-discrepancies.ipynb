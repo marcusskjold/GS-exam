{
 "cells": [
  {
   "cell_type": "markdown",
   "id": "817be262-d8ac-4571-8435-b58be83d3512",
   "metadata": {},
   "source": [
    "This notebook will examine the validity of the 'indbyggertal.csv' dataset.\n",
    "\n",
    "[Link to official data description](https://geodata-info.dk/srv/dan/catalog.search#/metadata/41e8458f-87f4-401b-b805-ce3f14936f8b)\n",
    "\n",
    "I am using the most recent count (2024)."
   ]
  },
  {
   "cell_type": "code",
   "execution_count": 2,
   "id": "0d62c634-fd86-459f-9d94-b953133bff22",
   "metadata": {},
   "outputs": [],
   "source": [
    "import os\n",
    "os.environ['PROJ_LIB'] = '/opt/conda/share/proj'"
   ]
  },
  {
   "cell_type": "code",
   "execution_count": 3,
   "id": "36c9cb9f-a785-495c-a62c-460d92e4db31",
   "metadata": {},
   "outputs": [],
   "source": [
    "import geopandas as gpd\n",
    "import pandas as pd\n",
    "import numpy as np\n",
    "import osmnx\n",
    "import contextily as cx\n",
    "import matplotlib.pyplot as plt\n",
    "import networkx as nx\n",
    "import os"
   ]
  },
  {
   "cell_type": "code",
   "execution_count": 5,
   "id": "f2a701d9-b96b-455a-a8a4-b8c162d2eeaf",
   "metadata": {},
   "outputs": [],
   "source": [
    "indbyggertal_raw = pd.read_csv(os.path.join(\"data\", \"buildings\", \"indbyggertal.csv\"), sep=';')"
   ]
  },
  {
   "cell_type": "code",
   "execution_count": 20,
   "id": "a795c9ef-2ef8-49f4-b5ab-df1ddaa1fa2a",
   "metadata": {},
   "outputs": [
    {
     "name": "stdout",
     "output_type": "stream",
     "text": [
      "['2024/01/01' '2023/01/01' '2022/01/01' '2021/01/01' '2020/01/01'\n",
      " '2019/01/01' '2018/01/01' '2017/01/01' '2016/01/01']\n"
     ]
    },
    {
     "data": {
      "text/plain": [
       "5511904"
      ]
     },
     "execution_count": 20,
     "metadata": {},
     "output_type": "execute_result"
    }
   ],
   "source": [
    "print(indbyggertal_raw['optaellingsdato'].unique())\n",
    "indbyggertal = indbyggertal_raw[indbyggertal_raw['optaellingsdato'] == '2024/01/01']\n",
    "indbyggertal['tot_indb'].sum()"
   ]
  },
  {
   "cell_type": "code",
   "execution_count": 21,
   "id": "9ab3125b-6151-4204-8ae5-c13390ce6fe4",
   "metadata": {},
   "outputs": [
    {
     "data": {
      "text/plain": [
       "Index(['stednavne_uuid', 'skrivemaade', 'optaellingsdato', 'bebyggelseskode',\n",
       "       'tot_indb', 'tot_hus'],\n",
       "      dtype='object')"
      ]
     },
     "execution_count": 21,
     "metadata": {},
     "output_type": "execute_result"
    }
   ],
   "source": [
    "indbyggertal.columns"
   ]
  },
  {
   "cell_type": "markdown",
   "id": "656d52f7-2a5c-4bdb-a874-f42056c3db82",
   "metadata": {},
   "source": [
    "The shapes for the municipalities are from ['data-science.dk'](https://data-science.dk/datasat/gis/valg/danmarks-kommune-inddeling-vektor/)."
   ]
  }
 ],
 "metadata": {
  "kernelspec": {
   "display_name": "Python 3 (ipykernel)",
   "language": "python",
   "name": "python3"
  },
  "language_info": {
   "codemirror_mode": {
    "name": "ipython",
    "version": 3
   },
   "file_extension": ".py",
   "mimetype": "text/x-python",
   "name": "python",
   "nbconvert_exporter": "python",
   "pygments_lexer": "ipython3",
   "version": "3.9.12"
  }
 },
 "nbformat": 4,
 "nbformat_minor": 5
}
